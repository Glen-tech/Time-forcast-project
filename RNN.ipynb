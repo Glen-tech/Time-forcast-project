{
 "cells": [
  {
   "cell_type": "markdown",
   "metadata": {},
   "source": [
    "## Libraries"
   ]
  },
  {
   "cell_type": "code",
   "execution_count": 20,
   "metadata": {},
   "outputs": [],
   "source": [
    "import numpy as np\n",
    "from keras.models import Sequential\n",
    "from keras.layers import Dense\n",
    "from keras.layers import LSTM\n",
    "from sklearn.preprocessing import MinMaxScaler\n",
    "from sklearn.metrics import mean_squared_error\n",
    "from datetime import date,timedelta\n",
    "\n",
    "import matplotlib as plt\n",
    "import pandas as pd\n",
    "\n",
    "from pandas import DataFrame\n",
    "from matplotlib import pyplot\n",
    "\n",
    "import itertools\n",
    "import numpy as np\n",
    "from keras.preprocessing.sequence import TimeseriesGenerator"
   ]
  },
  {
   "cell_type": "markdown",
   "metadata": {},
   "source": [
    "## Dates used in project"
   ]
  },
  {
   "cell_type": "code",
   "execution_count": 21,
   "metadata": {},
   "outputs": [
    {
     "name": "stdout",
     "output_type": "stream",
     "text": [
      "Today date is:  2021-01-14\n",
      "tomorrow date is:  2021-01-15\n",
      "to string :  2021-01-15\n",
      "<class 'str'>\n",
      "Next week is : 2021-01-21\n",
      "End next week is : 2021-01-28\n"
     ]
    }
   ],
   "source": [
    "today = date.today() \n",
    "print(\"Today date is: \", today)\n",
    "tomorrow = today + timedelta(days=1)\n",
    "tomorrow_string = str(tomorrow)\n",
    "print(\"tomorrow date is: \", tomorrow)\n",
    "print(\"to string : \" , tomorrow_string)\n",
    "print(type(tomorrow_string))\n",
    "next_week_begin = today + timedelta(days=7)\n",
    "print(\"Next week is :\", next_week_begin)\n",
    "next_week_end = next_week_begin + timedelta(days=7)\n",
    "print(\"End next week is :\", next_week_end)"
   ]
  },
  {
   "cell_type": "markdown",
   "metadata": {},
   "source": [
    "## Loading of the the dataset"
   ]
  },
  {
   "cell_type": "code",
   "execution_count": 22,
   "metadata": {},
   "outputs": [],
   "source": [
    "data = pd.read_excel('WindForecast_20210112-20210118.xls' , header = None  ,index_col= False )\n",
    "data = data.iloc[4:]\n",
    "data.columns = ['DateTime','Week-ahead Forecast [MW]','Day-ahead forecast [MW]' , 'Most recent forecast [MW]','Measured & upscaled [MW]','Monitored Capacity [MW]','Active Decremental Bids [yes/no]' ,'Day-ahead forecast(11h00) [MW]']\n",
    "data['DateTime'] = pd.to_datetime(data['DateTime'])"
   ]
  },
  {
   "cell_type": "markdown",
   "metadata": {},
   "source": [
    "# EDA : Exploratory Data Analysis"
   ]
  },
  {
   "cell_type": "code",
   "execution_count": 23,
   "metadata": {},
   "outputs": [
    {
     "data": {
      "text/html": [
       "<div>\n",
       "<style scoped>\n",
       "    .dataframe tbody tr th:only-of-type {\n",
       "        vertical-align: middle;\n",
       "    }\n",
       "\n",
       "    .dataframe tbody tr th {\n",
       "        vertical-align: top;\n",
       "    }\n",
       "\n",
       "    .dataframe thead th {\n",
       "        text-align: right;\n",
       "    }\n",
       "</style>\n",
       "<table border=\"1\" class=\"dataframe\">\n",
       "  <thead>\n",
       "    <tr style=\"text-align: right;\">\n",
       "      <th></th>\n",
       "      <th>DateTime</th>\n",
       "      <th>Week-ahead Forecast [MW]</th>\n",
       "      <th>Day-ahead forecast [MW]</th>\n",
       "      <th>Most recent forecast [MW]</th>\n",
       "      <th>Measured &amp; upscaled [MW]</th>\n",
       "      <th>Monitored Capacity [MW]</th>\n",
       "      <th>Active Decremental Bids [yes/no]</th>\n",
       "      <th>Day-ahead forecast(11h00) [MW]</th>\n",
       "    </tr>\n",
       "  </thead>\n",
       "  <tbody>\n",
       "    <tr>\n",
       "      <th>4</th>\n",
       "      <td>2021-12-01 00:00:00</td>\n",
       "      <td>1466.06</td>\n",
       "      <td>3558.2</td>\n",
       "      <td>3536.08</td>\n",
       "      <td>3390.06</td>\n",
       "      <td>4670.83</td>\n",
       "      <td>No</td>\n",
       "      <td>3508.03</td>\n",
       "    </tr>\n",
       "    <tr>\n",
       "      <th>5</th>\n",
       "      <td>2021-12-01 00:15:00</td>\n",
       "      <td>1510.05</td>\n",
       "      <td>3566.38</td>\n",
       "      <td>3544.98</td>\n",
       "      <td>3433.99</td>\n",
       "      <td>4670.83</td>\n",
       "      <td>No</td>\n",
       "      <td>3518.98</td>\n",
       "    </tr>\n",
       "    <tr>\n",
       "      <th>6</th>\n",
       "      <td>2021-12-01 00:30:00</td>\n",
       "      <td>1442.41</td>\n",
       "      <td>3572.99</td>\n",
       "      <td>3554</td>\n",
       "      <td>3482.05</td>\n",
       "      <td>4670.83</td>\n",
       "      <td>No</td>\n",
       "      <td>3527.87</td>\n",
       "    </tr>\n",
       "    <tr>\n",
       "      <th>7</th>\n",
       "      <td>2021-12-01 00:45:00</td>\n",
       "      <td>1458.09</td>\n",
       "      <td>3578.06</td>\n",
       "      <td>3562.79</td>\n",
       "      <td>3486.22</td>\n",
       "      <td>4670.83</td>\n",
       "      <td>No</td>\n",
       "      <td>3535.23</td>\n",
       "    </tr>\n",
       "    <tr>\n",
       "      <th>8</th>\n",
       "      <td>2021-12-01 01:00:00</td>\n",
       "      <td>1493.55</td>\n",
       "      <td>3580.62</td>\n",
       "      <td>3501.62</td>\n",
       "      <td>3498.25</td>\n",
       "      <td>4670.83</td>\n",
       "      <td>No</td>\n",
       "      <td>3540.6</td>\n",
       "    </tr>\n",
       "  </tbody>\n",
       "</table>\n",
       "</div>"
      ],
      "text/plain": [
       "             DateTime Week-ahead Forecast [MW] Day-ahead forecast [MW]  \\\n",
       "4 2021-12-01 00:00:00                  1466.06                  3558.2   \n",
       "5 2021-12-01 00:15:00                  1510.05                 3566.38   \n",
       "6 2021-12-01 00:30:00                  1442.41                 3572.99   \n",
       "7 2021-12-01 00:45:00                  1458.09                 3578.06   \n",
       "8 2021-12-01 01:00:00                  1493.55                 3580.62   \n",
       "\n",
       "  Most recent forecast [MW] Measured & upscaled [MW] Monitored Capacity [MW]  \\\n",
       "4                   3536.08                  3390.06                 4670.83   \n",
       "5                   3544.98                  3433.99                 4670.83   \n",
       "6                      3554                  3482.05                 4670.83   \n",
       "7                   3562.79                  3486.22                 4670.83   \n",
       "8                   3501.62                  3498.25                 4670.83   \n",
       "\n",
       "  Active Decremental Bids [yes/no] Day-ahead forecast(11h00) [MW]  \n",
       "4                               No                        3508.03  \n",
       "5                               No                        3518.98  \n",
       "6                               No                        3527.87  \n",
       "7                               No                        3535.23  \n",
       "8                               No                         3540.6  "
      ]
     },
     "execution_count": 23,
     "metadata": {},
     "output_type": "execute_result"
    }
   ],
   "source": [
    "data.head()"
   ]
  },
  {
   "cell_type": "code",
   "execution_count": 24,
   "metadata": {},
   "outputs": [
    {
     "name": "stderr",
     "output_type": "stream",
     "text": [
      "<ipython-input-24-2bb0b18689d4>:1: FutureWarning: Treating datetime data as categorical rather than numeric in `.describe` is deprecated and will be removed in a future version of pandas. Specify `datetime_is_numeric=True` to silence this warning and adopt the future behavior now.\n",
      "  data.describe()\n"
     ]
    },
    {
     "data": {
      "text/html": [
       "<div>\n",
       "<style scoped>\n",
       "    .dataframe tbody tr th:only-of-type {\n",
       "        vertical-align: middle;\n",
       "    }\n",
       "\n",
       "    .dataframe tbody tr th {\n",
       "        vertical-align: top;\n",
       "    }\n",
       "\n",
       "    .dataframe thead th {\n",
       "        text-align: right;\n",
       "    }\n",
       "</style>\n",
       "<table border=\"1\" class=\"dataframe\">\n",
       "  <thead>\n",
       "    <tr style=\"text-align: right;\">\n",
       "      <th></th>\n",
       "      <th>DateTime</th>\n",
       "      <th>Week-ahead Forecast [MW]</th>\n",
       "      <th>Day-ahead forecast [MW]</th>\n",
       "      <th>Most recent forecast [MW]</th>\n",
       "      <th>Measured &amp; upscaled [MW]</th>\n",
       "      <th>Monitored Capacity [MW]</th>\n",
       "      <th>Active Decremental Bids [yes/no]</th>\n",
       "      <th>Day-ahead forecast(11h00) [MW]</th>\n",
       "    </tr>\n",
       "  </thead>\n",
       "  <tbody>\n",
       "    <tr>\n",
       "      <th>count</th>\n",
       "      <td>672</td>\n",
       "      <td>672.00</td>\n",
       "      <td>288.00</td>\n",
       "      <td>672.00</td>\n",
       "      <td>252.00</td>\n",
       "      <td>672.000</td>\n",
       "      <td>672</td>\n",
       "      <td>384.00</td>\n",
       "    </tr>\n",
       "    <tr>\n",
       "      <th>unique</th>\n",
       "      <td>672</td>\n",
       "      <td>668.00</td>\n",
       "      <td>288.00</td>\n",
       "      <td>671.00</td>\n",
       "      <td>252.00</td>\n",
       "      <td>1.000</td>\n",
       "      <td>1</td>\n",
       "      <td>384.00</td>\n",
       "    </tr>\n",
       "    <tr>\n",
       "      <th>top</th>\n",
       "      <td>2021-01-17 01:15:00</td>\n",
       "      <td>2136.02</td>\n",
       "      <td>625.05</td>\n",
       "      <td>2035.69</td>\n",
       "      <td>1534.96</td>\n",
       "      <td>4670.829</td>\n",
       "      <td>No</td>\n",
       "      <td>3583.96</td>\n",
       "    </tr>\n",
       "    <tr>\n",
       "      <th>freq</th>\n",
       "      <td>1</td>\n",
       "      <td>2.00</td>\n",
       "      <td>1.00</td>\n",
       "      <td>2.00</td>\n",
       "      <td>1.00</td>\n",
       "      <td>672.000</td>\n",
       "      <td>672</td>\n",
       "      <td>1.00</td>\n",
       "    </tr>\n",
       "    <tr>\n",
       "      <th>first</th>\n",
       "      <td>2021-01-13 00:00:00</td>\n",
       "      <td>NaN</td>\n",
       "      <td>NaN</td>\n",
       "      <td>NaN</td>\n",
       "      <td>NaN</td>\n",
       "      <td>NaN</td>\n",
       "      <td>NaN</td>\n",
       "      <td>NaN</td>\n",
       "    </tr>\n",
       "    <tr>\n",
       "      <th>last</th>\n",
       "      <td>2021-12-01 23:45:00</td>\n",
       "      <td>NaN</td>\n",
       "      <td>NaN</td>\n",
       "      <td>NaN</td>\n",
       "      <td>NaN</td>\n",
       "      <td>NaN</td>\n",
       "      <td>NaN</td>\n",
       "      <td>NaN</td>\n",
       "    </tr>\n",
       "  </tbody>\n",
       "</table>\n",
       "</div>"
      ],
      "text/plain": [
       "                   DateTime  Week-ahead Forecast [MW]  \\\n",
       "count                   672                    672.00   \n",
       "unique                  672                    668.00   \n",
       "top     2021-01-17 01:15:00                   2136.02   \n",
       "freq                      1                      2.00   \n",
       "first   2021-01-13 00:00:00                       NaN   \n",
       "last    2021-12-01 23:45:00                       NaN   \n",
       "\n",
       "        Day-ahead forecast [MW]  Most recent forecast [MW]  \\\n",
       "count                    288.00                     672.00   \n",
       "unique                   288.00                     671.00   \n",
       "top                      625.05                    2035.69   \n",
       "freq                       1.00                       2.00   \n",
       "first                       NaN                        NaN   \n",
       "last                        NaN                        NaN   \n",
       "\n",
       "        Measured & upscaled [MW]  Monitored Capacity [MW]  \\\n",
       "count                     252.00                  672.000   \n",
       "unique                    252.00                    1.000   \n",
       "top                      1534.96                 4670.829   \n",
       "freq                        1.00                  672.000   \n",
       "first                        NaN                      NaN   \n",
       "last                         NaN                      NaN   \n",
       "\n",
       "       Active Decremental Bids [yes/no]  Day-ahead forecast(11h00) [MW]  \n",
       "count                               672                          384.00  \n",
       "unique                                1                          384.00  \n",
       "top                                  No                         3583.96  \n",
       "freq                                672                            1.00  \n",
       "first                               NaN                             NaN  \n",
       "last                                NaN                             NaN  "
      ]
     },
     "execution_count": 24,
     "metadata": {},
     "output_type": "execute_result"
    }
   ],
   "source": [
    "data.describe()"
   ]
  },
  {
   "cell_type": "code",
   "execution_count": 25,
   "metadata": {
    "run_control": {
     "marked": true
    }
   },
   "outputs": [
    {
     "data": {
      "text/plain": [
       "object            7\n",
       "datetime64[ns]    1\n",
       "dtype: int64"
      ]
     },
     "execution_count": 25,
     "metadata": {},
     "output_type": "execute_result"
    }
   ],
   "source": [
    "# From the information above you see that all the data is normalized between -1.0 and 1.0\n",
    "# Check the datatypes used in this dataset\n",
    "data.dtypes.value_counts()"
   ]
  },
  {
   "cell_type": "code",
   "execution_count": 26,
   "metadata": {
    "run_control": {
     "marked": true
    }
   },
   "outputs": [
    {
     "data": {
      "text/plain": [
       "Most recent forecast [MW]           object\n",
       "Measured & upscaled [MW]            object\n",
       "Monitored Capacity [MW]             object\n",
       "Active Decremental Bids [yes/no]    object\n",
       "Day-ahead forecast(11h00) [MW]      object\n",
       "dtype: object"
      ]
     },
     "execution_count": 26,
     "metadata": {},
     "output_type": "execute_result"
    }
   ],
   "source": [
    "# Show the last 5 datatypes\n",
    "data.dtypes.tail()"
   ]
  },
  {
   "cell_type": "markdown",
   "metadata": {},
   "source": [
    "### Changing dataset for DateTime Index"
   ]
  },
  {
   "cell_type": "code",
   "execution_count": 27,
   "metadata": {},
   "outputs": [],
   "source": [
    "data.to_csv('Windforcast.csv' , index = False)\n",
    "df = pd.read_csv('Windforcast.csv')\n",
    "df['DateTime'] = pd.to_datetime(df['DateTime'])\n",
    "df = df[df['DateTime'].dt.minute == 0]"
   ]
  },
  {
   "cell_type": "code",
   "execution_count": 28,
   "metadata": {},
   "outputs": [
    {
     "data": {
      "text/html": [
       "<div>\n",
       "<style scoped>\n",
       "    .dataframe tbody tr th:only-of-type {\n",
       "        vertical-align: middle;\n",
       "    }\n",
       "\n",
       "    .dataframe tbody tr th {\n",
       "        vertical-align: top;\n",
       "    }\n",
       "\n",
       "    .dataframe thead th {\n",
       "        text-align: right;\n",
       "    }\n",
       "</style>\n",
       "<table border=\"1\" class=\"dataframe\">\n",
       "  <thead>\n",
       "    <tr style=\"text-align: right;\">\n",
       "      <th></th>\n",
       "      <th>DateTime</th>\n",
       "      <th>Week-ahead Forecast [MW]</th>\n",
       "      <th>Day-ahead forecast [MW]</th>\n",
       "      <th>Most recent forecast [MW]</th>\n",
       "      <th>Measured &amp; upscaled [MW]</th>\n",
       "      <th>Monitored Capacity [MW]</th>\n",
       "      <th>Active Decremental Bids [yes/no]</th>\n",
       "      <th>Day-ahead forecast(11h00) [MW]</th>\n",
       "    </tr>\n",
       "  </thead>\n",
       "  <tbody>\n",
       "    <tr>\n",
       "      <th>0</th>\n",
       "      <td>2021-12-01 00:00:00</td>\n",
       "      <td>1466.06</td>\n",
       "      <td>3558.20</td>\n",
       "      <td>3536.08</td>\n",
       "      <td>3390.06</td>\n",
       "      <td>4670.829</td>\n",
       "      <td>No</td>\n",
       "      <td>3508.03</td>\n",
       "    </tr>\n",
       "    <tr>\n",
       "      <th>4</th>\n",
       "      <td>2021-12-01 01:00:00</td>\n",
       "      <td>1493.55</td>\n",
       "      <td>3580.62</td>\n",
       "      <td>3501.62</td>\n",
       "      <td>3498.25</td>\n",
       "      <td>4670.829</td>\n",
       "      <td>No</td>\n",
       "      <td>3540.60</td>\n",
       "    </tr>\n",
       "    <tr>\n",
       "      <th>8</th>\n",
       "      <td>2021-12-01 02:00:00</td>\n",
       "      <td>1597.20</td>\n",
       "      <td>3586.57</td>\n",
       "      <td>3536.58</td>\n",
       "      <td>3531.04</td>\n",
       "      <td>4670.829</td>\n",
       "      <td>No</td>\n",
       "      <td>3548.69</td>\n",
       "    </tr>\n",
       "    <tr>\n",
       "      <th>12</th>\n",
       "      <td>2021-12-01 03:00:00</td>\n",
       "      <td>1684.34</td>\n",
       "      <td>3593.28</td>\n",
       "      <td>3616.85</td>\n",
       "      <td>3578.76</td>\n",
       "      <td>4670.829</td>\n",
       "      <td>No</td>\n",
       "      <td>3562.67</td>\n",
       "    </tr>\n",
       "    <tr>\n",
       "      <th>16</th>\n",
       "      <td>2021-12-01 04:00:00</td>\n",
       "      <td>1689.73</td>\n",
       "      <td>3592.74</td>\n",
       "      <td>3649.54</td>\n",
       "      <td>3632.46</td>\n",
       "      <td>4670.829</td>\n",
       "      <td>No</td>\n",
       "      <td>3581.01</td>\n",
       "    </tr>\n",
       "  </tbody>\n",
       "</table>\n",
       "</div>"
      ],
      "text/plain": [
       "              DateTime  Week-ahead Forecast [MW]  Day-ahead forecast [MW]  \\\n",
       "0  2021-12-01 00:00:00                   1466.06                  3558.20   \n",
       "4  2021-12-01 01:00:00                   1493.55                  3580.62   \n",
       "8  2021-12-01 02:00:00                   1597.20                  3586.57   \n",
       "12 2021-12-01 03:00:00                   1684.34                  3593.28   \n",
       "16 2021-12-01 04:00:00                   1689.73                  3592.74   \n",
       "\n",
       "    Most recent forecast [MW]  Measured & upscaled [MW]  \\\n",
       "0                     3536.08                   3390.06   \n",
       "4                     3501.62                   3498.25   \n",
       "8                     3536.58                   3531.04   \n",
       "12                    3616.85                   3578.76   \n",
       "16                    3649.54                   3632.46   \n",
       "\n",
       "    Monitored Capacity [MW] Active Decremental Bids [yes/no]  \\\n",
       "0                  4670.829                               No   \n",
       "4                  4670.829                               No   \n",
       "8                  4670.829                               No   \n",
       "12                 4670.829                               No   \n",
       "16                 4670.829                               No   \n",
       "\n",
       "    Day-ahead forecast(11h00) [MW]  \n",
       "0                          3508.03  \n",
       "4                          3540.60  \n",
       "8                          3548.69  \n",
       "12                         3562.67  \n",
       "16                         3581.01  "
      ]
     },
     "execution_count": 28,
     "metadata": {},
     "output_type": "execute_result"
    }
   ],
   "source": [
    "df.head()"
   ]
  },
  {
   "cell_type": "markdown",
   "metadata": {},
   "source": [
    "# RNN model "
   ]
  },
  {
   "cell_type": "markdown",
   "metadata": {},
   "source": [
    "## Dataset "
   ]
  },
  {
   "cell_type": "code",
   "execution_count": 29,
   "metadata": {},
   "outputs": [
    {
     "data": {
      "image/png": "[encoded data removed]",
      "text/plain": [
       "<Figure size 1224x720 with 1 Axes>"
      ]
     },
     "metadata": {
      "needs_background": "light"
     },
     "output_type": "display_data"
    }
   ],
   "source": [
    "value = df['Most recent forecast [MW]']\n",
    "dates = plt.dates.date2num(df['DateTime'])\n",
    "plt.pyplot.figure(figsize=(17,10))\n",
    "plt.pyplot.plot_date(dates , value ,  linestyle='solid')\n",
    "plt.pyplot.tight_layout()\n",
    "plt.pyplot.show()\n",
    "\n",
    "#plt.pyplot.plot_date(dates, df['Most recent forecast [MW]'])"
   ]
  },
  {
   "cell_type": "code",
   "execution_count": 30,
   "metadata": {},
   "outputs": [],
   "source": [
    "x = df['Most recent forecast [MW]'].values.reshape(-1, 1)\n",
    "scaler = MinMaxScaler(feature_range=(0, 1)) \n",
    "dataset = scaler.fit_transform(x)\n"
   ]
  },
  {
   "cell_type": "code",
   "execution_count": 31,
   "metadata": {},
   "outputs": [
    {
     "name": "stdout",
     "output_type": "stream",
     "text": [
      "168\n",
      "126\n",
      "42\n"
     ]
    }
   ],
   "source": [
    "count_rows = df['Most recent forecast [MW]'].count()\n",
    "train_length = round((count_rows / 100)*75)\n",
    "test_length = round((count_rows / 100)*25)\n",
    "\n",
    "print(count_rows)\n",
    "print(train_length)\n",
    "print(test_length)\n",
    "\n",
    "\n",
    "train_data = dataset[0:train_length, : ]\n",
    "\n",
    "#Splitting the data\n",
    "x_train=[]\n",
    "y_train = []\n",
    "\n",
    "for i in range(10, len(train_data)):\n",
    "    x_train.append(train_data[i-10:i,0])\n",
    "    y_train.append(train_data[i,0])\n",
    "    "
   ]
  },
  {
   "cell_type": "code",
   "execution_count": 32,
   "metadata": {},
   "outputs": [],
   "source": [
    "#Convert to numpy arrays\n",
    "x_train=  np.array(x_train)\n",
    "y_train = np.array(y_train)\n",
    "\n",
    "#Reshape the data into 3-D array\n",
    "x_train = np.reshape(x_train, (x_train.shape[0],x_train.shape[1],1))\n"
   ]
  },
  {
   "cell_type": "code",
   "execution_count": 33,
   "metadata": {},
   "outputs": [],
   "source": [
    "from keras.layers import LSTM, Dense, Dropout, Masking, Embedding\n",
    "\n",
    "model = Sequential()\n",
    "\n",
    "# Embedding layer\n",
    "model.add(Embedding(input_dim=count_rows,output_dim=100))\n",
    "\n",
    "# Masking layer for pre-trained embeddings\n",
    "model.add(Masking(mask_value=0.0))\n",
    "model.add(LSTM(units = 10, return_sequences = True, input_shape = (x_train.shape[1], 1)))\n",
    "model.add(Dropout(0.2))\n",
    "\n",
    "model.add(LSTM(units = 1))\n",
    "\n",
    "# For Full connection layer we use dense\n",
    "# As the output is 1D so we use unit=1\n",
    "model.add(Dense(units = 1))"
   ]
  },
  {
   "cell_type": "code",
   "execution_count": 34,
   "metadata": {},
   "outputs": [
    {
     "data": {
      "text/plain": [
       "Text(0.5, 0, 'epoch')"
      ]
     },
     "execution_count": 34,
     "metadata": {},
     "output_type": "execute_result"
    },
    {
     "data": {
      "image/png": "[encoded data removed]",
      "text/plain": [
       "<Figure size 432x288 with 1 Axes>"
      ]
     },
     "metadata": {
      "needs_background": "light"
     },
     "output_type": "display_data"
    }
   ],
   "source": [
    "#compile and fit the model on 50 epochs\n",
    "model.compile(optimizer = 'adam', loss = 'mean_squared_error')\n",
    "history = model.fit(x_train, y_train, epochs = 50, batch_size = 50 , verbose = 0)\n",
    "plt.pyplot.semilogy(history.history['loss'])\n",
    "plt.pyplot.ylabel('loss')\n",
    "plt.pyplot.xlabel('epoch')"
   ]
  },
  {
   "cell_type": "code",
   "execution_count": 35,
   "metadata": {},
   "outputs": [],
   "source": [
    "#Test data set\n",
    "test_data = dataset[test_length - 10: , : ]\n",
    "\n",
    "#splitting the x_test and y_test data sets\n",
    "x_test = []\n",
    "y_test =  dataset[test_length : , : ] \n",
    "\n",
    "for i in range(10,len(test_data)):\n",
    "    x_test.append(test_data[i-10:i,0])\n",
    "    \n",
    "#Convert x_test to a numpy array \n",
    "x_test = np.array(x_test)\n",
    "\n",
    "#Reshape the data into 3-D array\n",
    "x_test = np.reshape(x_test, (x_test.shape[0],x_test.shape[1],1))"
   ]
  },
  {
   "cell_type": "code",
   "execution_count": 36,
   "metadata": {},
   "outputs": [],
   "source": [
    "predictions = model.predict(x_test)\n",
    "scaled = scaler.inverse_transform(predictions)"
   ]
  },
  {
   "cell_type": "raw",
   "metadata": {},
   "source": [
    "## Regression Evaluation Metrics ARIMA"
   ]
  },
  {
   "cell_type": "code",
   "execution_count": 37,
   "metadata": {},
   "outputs": [
    {
     "name": "stdout",
     "output_type": "stream",
     "text": [
      "MAE: 0.2339227801421092\n",
      "MSE: 0.06873390939448473\n",
      "RMSE: 0.26217152666619753\n"
     ]
    }
   ],
   "source": [
    "from sklearn import metrics\n",
    "print('MAE:', metrics.mean_absolute_error(y_test, predictions))\n",
    "print('MSE:', metrics.mean_squared_error(y_test, predictions))\n",
    "print('RMSE:', np.sqrt(metrics.mean_squared_error(y_test, predictions))) \n",
    "\n"
   ]
  },
  {
   "cell_type": "raw",
   "metadata": {},
   "source": [
    "## Pickle file for deployment"
   ]
  },
  {
   "cell_type": "code",
   "execution_count": 38,
   "metadata": {},
   "outputs": [
    {
     "ename": "TypeError",
     "evalue": "cannot pickle 'weakref' object",
     "output_type": "error",
     "traceback": [
      "\u001b[1;31m---------------------------------------------------------------------------\u001b[0m",
      "\u001b[1;31mTypeError\u001b[0m                                 Traceback (most recent call last)",
      "\u001b[1;32m<ipython-input-38-57d292c67e66>\u001b[0m in \u001b[0;36m<module>\u001b[1;34m\u001b[0m\n\u001b[0;32m      1\u001b[0m \u001b[1;32mimport\u001b[0m \u001b[0mpickle\u001b[0m\u001b[1;33m\u001b[0m\u001b[1;33m\u001b[0m\u001b[0m\n\u001b[1;32m----> 2\u001b[1;33m \u001b[0mpickle\u001b[0m\u001b[1;33m.\u001b[0m\u001b[0mdump\u001b[0m\u001b[1;33m(\u001b[0m\u001b[0mmodel\u001b[0m\u001b[1;33m,\u001b[0m \u001b[0mopen\u001b[0m\u001b[1;33m(\u001b[0m\u001b[1;34m'RNN.pkl'\u001b[0m\u001b[1;33m,\u001b[0m\u001b[1;34m'wb'\u001b[0m\u001b[1;33m)\u001b[0m\u001b[1;33m)\u001b[0m\u001b[1;33m\u001b[0m\u001b[1;33m\u001b[0m\u001b[0m\n\u001b[0m",
      "\u001b[1;31mTypeError\u001b[0m: cannot pickle 'weakref' object"
     ]
    }
   ],
   "source": [
    "import pickle\n",
    "pickle.dump(model, open('RNN.pkl','wb'))"
   ]
  },
  {
   "cell_type": "code",
   "execution_count": null,
   "metadata": {},
   "outputs": [],
   "source": []
  },
  {
   "cell_type": "code",
   "execution_count": null,
   "metadata": {},
   "outputs": [],
   "source": []
  },
  {
   "cell_type": "code",
   "execution_count": null,
   "metadata": {},
   "outputs": [],
   "source": []
  }
 ],
 "metadata": {
  "kernelspec": {
   "display_name": "Python 3",
   "language": "python",
   "name": "python3"
  },
  "language_info": {
   "codemirror_mode": {
    "name": "ipython",
    "version": 3
   },
   "file_extension": ".py",
   "mimetype": "text/x-python",
   "name": "python",
   "nbconvert_exporter": "python",
   "pygments_lexer": "ipython3",
   "version": "3.8.5"
  }
 },
 "nbformat": 4,
 "nbformat_minor": 4
}
