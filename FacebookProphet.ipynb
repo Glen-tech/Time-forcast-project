{
 "cells": [
  {
   "cell_type": "markdown",
   "metadata": {},
   "source": [
    "## Libraries"
   ]
  },
  {
   "cell_type": "code",
   "execution_count": 24,
   "metadata": {},
   "outputs": [],
   "source": [
    "from statsmodels.graphics.tsaplots import plot_pacf\n",
    "from statsmodels.graphics.tsaplots import plot_acf\n",
    "from statsmodels.tsa.stattools import adfuller\n",
    "from datetime import date,timedelta\n",
    "from pandas.plotting import autocorrelation_plot\n",
    "import statsmodels.api as sm\n",
    "\n",
    "import matplotlib.pyplot as plt\n",
    "import pandas as pd\n",
    "\n",
    "from pandas import DataFrame\n",
    "from matplotlib import pyplot\n",
    "\n",
    "import itertools\n",
    "import numpy as np\n",
    "from pandas import read_excel\n",
    "import matplotlib\n",
    "import datetime as dt\n"
   ]
  },
  {
   "cell_type": "markdown",
   "metadata": {},
   "source": [
    "## Dates used in project"
   ]
  },
  {
   "cell_type": "code",
   "execution_count": 25,
   "metadata": {},
   "outputs": [
    {
     "name": "stdout",
     "output_type": "stream",
     "text": [
      "Today date is:  2021-01-14\n",
      "tomorrow date is:  2021-01-15\n",
      "to string :  2021-01-15\n",
      "<class 'str'>\n",
      "Next week is : 2021-01-21\n",
      "End next week is : 2021-01-28\n"
     ]
    }
   ],
   "source": [
    "today = date.today() \n",
    "print(\"Today date is: \", today)\n",
    "tomorrow = today + timedelta(days=1)\n",
    "tomorrow_string = str(tomorrow)\n",
    "print(\"tomorrow date is: \", tomorrow)\n",
    "print(\"to string : \" , tomorrow_string)\n",
    "print(type(tomorrow_string))\n",
    "next_week_begin = today + timedelta(days=7)\n",
    "print(\"Next week is :\", next_week_begin)\n",
    "next_week_end = next_week_begin + timedelta(days=7)\n",
    "print(\"End next week is :\", next_week_end)"
   ]
  },
  {
   "cell_type": "markdown",
   "metadata": {},
   "source": [
    "## Loading of the the dataset"
   ]
  },
  {
   "cell_type": "code",
   "execution_count": 26,
   "metadata": {},
   "outputs": [],
   "source": [
    "data = pd.read_excel('WindForecast_20210112-20210118.xls' , header = None  ,index_col= False )\n",
    "data = data.iloc[4:]\n",
    "data.columns = ['DateTime','Week-ahead Forecast [MW]','Day-ahead forecast [MW]' , 'Most recent forecast [MW]','Measured & upscaled [MW]','Monitored Capacity [MW]','Active Decremental Bids [yes/no]' ,'Day-ahead forecast(11h00) [MW]']\n",
    "data['DateTime'] = pd.to_datetime(data['DateTime'])"
   ]
  },
  {
   "cell_type": "markdown",
   "metadata": {},
   "source": [
    "# EDA : Exploratory Data Analysis"
   ]
  },
  {
   "cell_type": "code",
   "execution_count": 27,
   "metadata": {},
   "outputs": [
    {
     "data": {
      "text/html": [
       "<div>\n",
       "<style scoped>\n",
       "    .dataframe tbody tr th:only-of-type {\n",
       "        vertical-align: middle;\n",
       "    }\n",
       "\n",
       "    .dataframe tbody tr th {\n",
       "        vertical-align: top;\n",
       "    }\n",
       "\n",
       "    .dataframe thead th {\n",
       "        text-align: right;\n",
       "    }\n",
       "</style>\n",
       "<table border=\"1\" class=\"dataframe\">\n",
       "  <thead>\n",
       "    <tr style=\"text-align: right;\">\n",
       "      <th></th>\n",
       "      <th>DateTime</th>\n",
       "      <th>Week-ahead Forecast [MW]</th>\n",
       "      <th>Day-ahead forecast [MW]</th>\n",
       "      <th>Most recent forecast [MW]</th>\n",
       "      <th>Measured &amp; upscaled [MW]</th>\n",
       "      <th>Monitored Capacity [MW]</th>\n",
       "      <th>Active Decremental Bids [yes/no]</th>\n",
       "      <th>Day-ahead forecast(11h00) [MW]</th>\n",
       "    </tr>\n",
       "  </thead>\n",
       "  <tbody>\n",
       "    <tr>\n",
       "      <th>4</th>\n",
       "      <td>2021-12-01 00:00:00</td>\n",
       "      <td>1466.06</td>\n",
       "      <td>3558.2</td>\n",
       "      <td>3536.08</td>\n",
       "      <td>3390.06</td>\n",
       "      <td>4670.83</td>\n",
       "      <td>No</td>\n",
       "      <td>3508.03</td>\n",
       "    </tr>\n",
       "    <tr>\n",
       "      <th>5</th>\n",
       "      <td>2021-12-01 00:15:00</td>\n",
       "      <td>1510.05</td>\n",
       "      <td>3566.38</td>\n",
       "      <td>3544.98</td>\n",
       "      <td>3433.99</td>\n",
       "      <td>4670.83</td>\n",
       "      <td>No</td>\n",
       "      <td>3518.98</td>\n",
       "    </tr>\n",
       "    <tr>\n",
       "      <th>6</th>\n",
       "      <td>2021-12-01 00:30:00</td>\n",
       "      <td>1442.41</td>\n",
       "      <td>3572.99</td>\n",
       "      <td>3554</td>\n",
       "      <td>3482.05</td>\n",
       "      <td>4670.83</td>\n",
       "      <td>No</td>\n",
       "      <td>3527.87</td>\n",
       "    </tr>\n",
       "    <tr>\n",
       "      <th>7</th>\n",
       "      <td>2021-12-01 00:45:00</td>\n",
       "      <td>1458.09</td>\n",
       "      <td>3578.06</td>\n",
       "      <td>3562.79</td>\n",
       "      <td>3486.22</td>\n",
       "      <td>4670.83</td>\n",
       "      <td>No</td>\n",
       "      <td>3535.23</td>\n",
       "    </tr>\n",
       "    <tr>\n",
       "      <th>8</th>\n",
       "      <td>2021-12-01 01:00:00</td>\n",
       "      <td>1493.55</td>\n",
       "      <td>3580.62</td>\n",
       "      <td>3501.62</td>\n",
       "      <td>3498.25</td>\n",
       "      <td>4670.83</td>\n",
       "      <td>No</td>\n",
       "      <td>3540.6</td>\n",
       "    </tr>\n",
       "  </tbody>\n",
       "</table>\n",
       "</div>"
      ],
      "text/plain": [
       "             DateTime Week-ahead Forecast [MW] Day-ahead forecast [MW]  \\\n",
       "4 2021-12-01 00:00:00                  1466.06                  3558.2   \n",
       "5 2021-12-01 00:15:00                  1510.05                 3566.38   \n",
       "6 2021-12-01 00:30:00                  1442.41                 3572.99   \n",
       "7 2021-12-01 00:45:00                  1458.09                 3578.06   \n",
       "8 2021-12-01 01:00:00                  1493.55                 3580.62   \n",
       "\n",
       "  Most recent forecast [MW] Measured & upscaled [MW] Monitored Capacity [MW]  \\\n",
       "4                   3536.08                  3390.06                 4670.83   \n",
       "5                   3544.98                  3433.99                 4670.83   \n",
       "6                      3554                  3482.05                 4670.83   \n",
       "7                   3562.79                  3486.22                 4670.83   \n",
       "8                   3501.62                  3498.25                 4670.83   \n",
       "\n",
       "  Active Decremental Bids [yes/no] Day-ahead forecast(11h00) [MW]  \n",
       "4                               No                        3508.03  \n",
       "5                               No                        3518.98  \n",
       "6                               No                        3527.87  \n",
       "7                               No                        3535.23  \n",
       "8                               No                         3540.6  "
      ]
     },
     "execution_count": 27,
     "metadata": {},
     "output_type": "execute_result"
    }
   ],
   "source": [
    "data.head()"
   ]
  },
  {
   "cell_type": "code",
   "execution_count": 28,
   "metadata": {},
   "outputs": [
    {
     "name": "stderr",
     "output_type": "stream",
     "text": [
      "<ipython-input-28-2bb0b18689d4>:1: FutureWarning: Treating datetime data as categorical rather than numeric in `.describe` is deprecated and will be removed in a future version of pandas. Specify `datetime_is_numeric=True` to silence this warning and adopt the future behavior now.\n",
      "  data.describe()\n"
     ]
    },
    {
     "data": {
      "text/html": [
       "<div>\n",
       "<style scoped>\n",
       "    .dataframe tbody tr th:only-of-type {\n",
       "        vertical-align: middle;\n",
       "    }\n",
       "\n",
       "    .dataframe tbody tr th {\n",
       "        vertical-align: top;\n",
       "    }\n",
       "\n",
       "    .dataframe thead th {\n",
       "        text-align: right;\n",
       "    }\n",
       "</style>\n",
       "<table border=\"1\" class=\"dataframe\">\n",
       "  <thead>\n",
       "    <tr style=\"text-align: right;\">\n",
       "      <th></th>\n",
       "      <th>DateTime</th>\n",
       "      <th>Week-ahead Forecast [MW]</th>\n",
       "      <th>Day-ahead forecast [MW]</th>\n",
       "      <th>Most recent forecast [MW]</th>\n",
       "      <th>Measured &amp; upscaled [MW]</th>\n",
       "      <th>Monitored Capacity [MW]</th>\n",
       "      <th>Active Decremental Bids [yes/no]</th>\n",
       "      <th>Day-ahead forecast(11h00) [MW]</th>\n",
       "    </tr>\n",
       "  </thead>\n",
       "  <tbody>\n",
       "    <tr>\n",
       "      <th>count</th>\n",
       "      <td>672</td>\n",
       "      <td>672.00</td>\n",
       "      <td>288.00</td>\n",
       "      <td>672.00</td>\n",
       "      <td>252.00</td>\n",
       "      <td>672.000</td>\n",
       "      <td>672</td>\n",
       "      <td>384.00</td>\n",
       "    </tr>\n",
       "    <tr>\n",
       "      <th>unique</th>\n",
       "      <td>672</td>\n",
       "      <td>668.00</td>\n",
       "      <td>288.00</td>\n",
       "      <td>671.00</td>\n",
       "      <td>252.00</td>\n",
       "      <td>1.000</td>\n",
       "      <td>1</td>\n",
       "      <td>384.00</td>\n",
       "    </tr>\n",
       "    <tr>\n",
       "      <th>top</th>\n",
       "      <td>2021-01-17 01:15:00</td>\n",
       "      <td>2136.02</td>\n",
       "      <td>625.05</td>\n",
       "      <td>2035.69</td>\n",
       "      <td>1534.96</td>\n",
       "      <td>4670.829</td>\n",
       "      <td>No</td>\n",
       "      <td>3583.96</td>\n",
       "    </tr>\n",
       "    <tr>\n",
       "      <th>freq</th>\n",
       "      <td>1</td>\n",
       "      <td>2.00</td>\n",
       "      <td>1.00</td>\n",
       "      <td>2.00</td>\n",
       "      <td>1.00</td>\n",
       "      <td>672.000</td>\n",
       "      <td>672</td>\n",
       "      <td>1.00</td>\n",
       "    </tr>\n",
       "    <tr>\n",
       "      <th>first</th>\n",
       "      <td>2021-01-13 00:00:00</td>\n",
       "      <td>NaN</td>\n",
       "      <td>NaN</td>\n",
       "      <td>NaN</td>\n",
       "      <td>NaN</td>\n",
       "      <td>NaN</td>\n",
       "      <td>NaN</td>\n",
       "      <td>NaN</td>\n",
       "    </tr>\n",
       "    <tr>\n",
       "      <th>last</th>\n",
       "      <td>2021-12-01 23:45:00</td>\n",
       "      <td>NaN</td>\n",
       "      <td>NaN</td>\n",
       "      <td>NaN</td>\n",
       "      <td>NaN</td>\n",
       "      <td>NaN</td>\n",
       "      <td>NaN</td>\n",
       "      <td>NaN</td>\n",
       "    </tr>\n",
       "  </tbody>\n",
       "</table>\n",
       "</div>"
      ],
      "text/plain": [
       "                   DateTime  Week-ahead Forecast [MW]  \\\n",
       "count                   672                    672.00   \n",
       "unique                  672                    668.00   \n",
       "top     2021-01-17 01:15:00                   2136.02   \n",
       "freq                      1                      2.00   \n",
       "first   2021-01-13 00:00:00                       NaN   \n",
       "last    2021-12-01 23:45:00                       NaN   \n",
       "\n",
       "        Day-ahead forecast [MW]  Most recent forecast [MW]  \\\n",
       "count                    288.00                     672.00   \n",
       "unique                   288.00                     671.00   \n",
       "top                      625.05                    2035.69   \n",
       "freq                       1.00                       2.00   \n",
       "first                       NaN                        NaN   \n",
       "last                        NaN                        NaN   \n",
       "\n",
       "        Measured & upscaled [MW]  Monitored Capacity [MW]  \\\n",
       "count                     252.00                  672.000   \n",
       "unique                    252.00                    1.000   \n",
       "top                      1534.96                 4670.829   \n",
       "freq                        1.00                  672.000   \n",
       "first                        NaN                      NaN   \n",
       "last                         NaN                      NaN   \n",
       "\n",
       "       Active Decremental Bids [yes/no]  Day-ahead forecast(11h00) [MW]  \n",
       "count                               672                          384.00  \n",
       "unique                                1                          384.00  \n",
       "top                                  No                         3583.96  \n",
       "freq                                672                            1.00  \n",
       "first                               NaN                             NaN  \n",
       "last                                NaN                             NaN  "
      ]
     },
     "execution_count": 28,
     "metadata": {},
     "output_type": "execute_result"
    }
   ],
   "source": [
    "data.describe()"
   ]
  },
  {
   "cell_type": "code",
   "execution_count": 29,
   "metadata": {
    "run_control": {
     "marked": true
    }
   },
   "outputs": [
    {
     "data": {
      "text/plain": [
       "object            7\n",
       "datetime64[ns]    1\n",
       "dtype: int64"
      ]
     },
     "execution_count": 29,
     "metadata": {},
     "output_type": "execute_result"
    }
   ],
   "source": [
    "# From the information above you see that all the data is normalized between -1.0 and 1.0\n",
    "# Check the datatypes used in this dataset\n",
    "data.dtypes.value_counts()"
   ]
  },
  {
   "cell_type": "code",
   "execution_count": 30,
   "metadata": {
    "run_control": {
     "marked": true
    }
   },
   "outputs": [
    {
     "data": {
      "text/plain": [
       "Most recent forecast [MW]           object\n",
       "Measured & upscaled [MW]            object\n",
       "Monitored Capacity [MW]             object\n",
       "Active Decremental Bids [yes/no]    object\n",
       "Day-ahead forecast(11h00) [MW]      object\n",
       "dtype: object"
      ]
     },
     "execution_count": 30,
     "metadata": {},
     "output_type": "execute_result"
    }
   ],
   "source": [
    "# Show the last 5 datatypes\n",
    "data.dtypes.tail()"
   ]
  },
  {
   "cell_type": "markdown",
   "metadata": {},
   "source": [
    "### Changing dataset for DateTime Index"
   ]
  },
  {
   "cell_type": "code",
   "execution_count": 31,
   "metadata": {},
   "outputs": [
    {
     "data": {
      "text/html": [
       "<div>\n",
       "<style scoped>\n",
       "    .dataframe tbody tr th:only-of-type {\n",
       "        vertical-align: middle;\n",
       "    }\n",
       "\n",
       "    .dataframe tbody tr th {\n",
       "        vertical-align: top;\n",
       "    }\n",
       "\n",
       "    .dataframe thead th {\n",
       "        text-align: right;\n",
       "    }\n",
       "</style>\n",
       "<table border=\"1\" class=\"dataframe\">\n",
       "  <thead>\n",
       "    <tr style=\"text-align: right;\">\n",
       "      <th></th>\n",
       "      <th>DateTime</th>\n",
       "      <th>Week-ahead Forecast [MW]</th>\n",
       "      <th>Day-ahead forecast [MW]</th>\n",
       "      <th>Most recent forecast [MW]</th>\n",
       "      <th>Measured &amp; upscaled [MW]</th>\n",
       "      <th>Monitored Capacity [MW]</th>\n",
       "      <th>Active Decremental Bids [yes/no]</th>\n",
       "      <th>Day-ahead forecast(11h00) [MW]</th>\n",
       "    </tr>\n",
       "  </thead>\n",
       "  <tbody>\n",
       "    <tr>\n",
       "      <th>0</th>\n",
       "      <td>2021-12-01 00:00:00</td>\n",
       "      <td>1466.06</td>\n",
       "      <td>3558.20</td>\n",
       "      <td>3536.08</td>\n",
       "      <td>3390.06</td>\n",
       "      <td>4670.829</td>\n",
       "      <td>No</td>\n",
       "      <td>3508.03</td>\n",
       "    </tr>\n",
       "    <tr>\n",
       "      <th>4</th>\n",
       "      <td>2021-12-01 01:00:00</td>\n",
       "      <td>1493.55</td>\n",
       "      <td>3580.62</td>\n",
       "      <td>3501.62</td>\n",
       "      <td>3498.25</td>\n",
       "      <td>4670.829</td>\n",
       "      <td>No</td>\n",
       "      <td>3540.60</td>\n",
       "    </tr>\n",
       "    <tr>\n",
       "      <th>8</th>\n",
       "      <td>2021-12-01 02:00:00</td>\n",
       "      <td>1597.20</td>\n",
       "      <td>3586.57</td>\n",
       "      <td>3536.58</td>\n",
       "      <td>3531.04</td>\n",
       "      <td>4670.829</td>\n",
       "      <td>No</td>\n",
       "      <td>3548.69</td>\n",
       "    </tr>\n",
       "    <tr>\n",
       "      <th>12</th>\n",
       "      <td>2021-12-01 03:00:00</td>\n",
       "      <td>1684.34</td>\n",
       "      <td>3593.28</td>\n",
       "      <td>3616.85</td>\n",
       "      <td>3578.76</td>\n",
       "      <td>4670.829</td>\n",
       "      <td>No</td>\n",
       "      <td>3562.67</td>\n",
       "    </tr>\n",
       "    <tr>\n",
       "      <th>16</th>\n",
       "      <td>2021-12-01 04:00:00</td>\n",
       "      <td>1689.73</td>\n",
       "      <td>3592.74</td>\n",
       "      <td>3649.54</td>\n",
       "      <td>3632.46</td>\n",
       "      <td>4670.829</td>\n",
       "      <td>No</td>\n",
       "      <td>3581.01</td>\n",
       "    </tr>\n",
       "  </tbody>\n",
       "</table>\n",
       "</div>"
      ],
      "text/plain": [
       "              DateTime  Week-ahead Forecast [MW]  Day-ahead forecast [MW]  \\\n",
       "0  2021-12-01 00:00:00                   1466.06                  3558.20   \n",
       "4  2021-12-01 01:00:00                   1493.55                  3580.62   \n",
       "8  2021-12-01 02:00:00                   1597.20                  3586.57   \n",
       "12 2021-12-01 03:00:00                   1684.34                  3593.28   \n",
       "16 2021-12-01 04:00:00                   1689.73                  3592.74   \n",
       "\n",
       "    Most recent forecast [MW]  Measured & upscaled [MW]  \\\n",
       "0                     3536.08                   3390.06   \n",
       "4                     3501.62                   3498.25   \n",
       "8                     3536.58                   3531.04   \n",
       "12                    3616.85                   3578.76   \n",
       "16                    3649.54                   3632.46   \n",
       "\n",
       "    Monitored Capacity [MW] Active Decremental Bids [yes/no]  \\\n",
       "0                  4670.829                               No   \n",
       "4                  4670.829                               No   \n",
       "8                  4670.829                               No   \n",
       "12                 4670.829                               No   \n",
       "16                 4670.829                               No   \n",
       "\n",
       "    Day-ahead forecast(11h00) [MW]  \n",
       "0                          3508.03  \n",
       "4                          3540.60  \n",
       "8                          3548.69  \n",
       "12                         3562.67  \n",
       "16                         3581.01  "
      ]
     },
     "execution_count": 31,
     "metadata": {},
     "output_type": "execute_result"
    }
   ],
   "source": [
    "data.to_csv('Windforcast.csv' , index = False)\n",
    "df = pd.read_csv('Windforcast.csv')\n",
    "df['DateTime'] = pd.to_datetime(df['DateTime'])\n",
    "df = df[df['DateTime'].dt.minute == 0]\n",
    "df.head()\n"
   ]
  },
  {
   "cell_type": "code",
   "execution_count": 32,
   "metadata": {},
   "outputs": [
    {
     "data": {
      "text/html": [
       "<div>\n",
       "<style scoped>\n",
       "    .dataframe tbody tr th:only-of-type {\n",
       "        vertical-align: middle;\n",
       "    }\n",
       "\n",
       "    .dataframe tbody tr th {\n",
       "        vertical-align: top;\n",
       "    }\n",
       "\n",
       "    .dataframe thead th {\n",
       "        text-align: right;\n",
       "    }\n",
       "</style>\n",
       "<table border=\"1\" class=\"dataframe\">\n",
       "  <thead>\n",
       "    <tr style=\"text-align: right;\">\n",
       "      <th></th>\n",
       "      <th>ds</th>\n",
       "      <th>y</th>\n",
       "    </tr>\n",
       "  </thead>\n",
       "  <tbody>\n",
       "    <tr>\n",
       "      <th>0</th>\n",
       "      <td>2021-12-01 00:00:00</td>\n",
       "      <td>3536.08</td>\n",
       "    </tr>\n",
       "    <tr>\n",
       "      <th>4</th>\n",
       "      <td>2021-12-01 01:00:00</td>\n",
       "      <td>3501.62</td>\n",
       "    </tr>\n",
       "    <tr>\n",
       "      <th>8</th>\n",
       "      <td>2021-12-01 02:00:00</td>\n",
       "      <td>3536.58</td>\n",
       "    </tr>\n",
       "    <tr>\n",
       "      <th>12</th>\n",
       "      <td>2021-12-01 03:00:00</td>\n",
       "      <td>3616.85</td>\n",
       "    </tr>\n",
       "    <tr>\n",
       "      <th>16</th>\n",
       "      <td>2021-12-01 04:00:00</td>\n",
       "      <td>3649.54</td>\n",
       "    </tr>\n",
       "    <tr>\n",
       "      <th>...</th>\n",
       "      <td>...</td>\n",
       "      <td>...</td>\n",
       "    </tr>\n",
       "    <tr>\n",
       "      <th>652</th>\n",
       "      <td>2021-01-18 19:00:00</td>\n",
       "      <td>2024.88</td>\n",
       "    </tr>\n",
       "    <tr>\n",
       "      <th>656</th>\n",
       "      <td>2021-01-18 20:00:00</td>\n",
       "      <td>1944.39</td>\n",
       "    </tr>\n",
       "    <tr>\n",
       "      <th>660</th>\n",
       "      <td>2021-01-18 21:00:00</td>\n",
       "      <td>2018.25</td>\n",
       "    </tr>\n",
       "    <tr>\n",
       "      <th>664</th>\n",
       "      <td>2021-01-18 22:00:00</td>\n",
       "      <td>2039.14</td>\n",
       "    </tr>\n",
       "    <tr>\n",
       "      <th>668</th>\n",
       "      <td>2021-01-18 23:00:00</td>\n",
       "      <td>2044.25</td>\n",
       "    </tr>\n",
       "  </tbody>\n",
       "</table>\n",
       "<p>168 rows × 2 columns</p>\n",
       "</div>"
      ],
      "text/plain": [
       "                     ds        y\n",
       "0   2021-12-01 00:00:00  3536.08\n",
       "4   2021-12-01 01:00:00  3501.62\n",
       "8   2021-12-01 02:00:00  3536.58\n",
       "12  2021-12-01 03:00:00  3616.85\n",
       "16  2021-12-01 04:00:00  3649.54\n",
       "..                  ...      ...\n",
       "652 2021-01-18 19:00:00  2024.88\n",
       "656 2021-01-18 20:00:00  1944.39\n",
       "660 2021-01-18 21:00:00  2018.25\n",
       "664 2021-01-18 22:00:00  2039.14\n",
       "668 2021-01-18 23:00:00  2044.25\n",
       "\n",
       "[168 rows x 2 columns]"
      ]
     },
     "execution_count": 32,
     "metadata": {},
     "output_type": "execute_result"
    }
   ],
   "source": [
    "data_model = pd.DataFrame()\n",
    "data_model[\"ds\"] = df['DateTime']\n",
    "data_model[\"y\"] = df['Most recent forecast [MW]']\n",
    "data_model\n"
   ]
  },
  {
   "cell_type": "code",
   "execution_count": 33,
   "metadata": {},
   "outputs": [
    {
     "name": "stdout",
     "output_type": "stream",
     "text": [
      "168\n",
      "126\n",
      "42\n"
     ]
    }
   ],
   "source": [
    "import math\n",
    "\n",
    "from sklearn.model_selection import train_test_split\n",
    "\n",
    "data_model= data_model.reset_index(drop=True)\n",
    "count_rows = len(data_model.index)\n",
    "train_length = round((count_rows / 100)*75)\n",
    "test_length = round((count_rows / 100)*25)\n",
    "\n",
    "print(count_rows)\n",
    "print(train_length)\n",
    "print(test_length)"
   ]
  },
  {
   "cell_type": "markdown",
   "metadata": {},
   "source": [
    "# Preparing train and test set"
   ]
  },
  {
   "cell_type": "code",
   "execution_count": 34,
   "metadata": {},
   "outputs": [],
   "source": [
    "train = data_model['y'].dropna().iloc[0:train_length]  # making of train dataset\n",
    "train_data =  data_model['ds'].dropna().iloc[0:train_length]  # making of train dataset\n",
    "\n",
    "test = data_model['y'].dropna().iloc[train_length:]   # making of test dataset\n",
    "test_data =  data_model['ds'].dropna().iloc[train_length:]  # making of train dataset\n"
   ]
  },
  {
   "cell_type": "code",
   "execution_count": 35,
   "metadata": {},
   "outputs": [
    {
     "data": {
      "text/html": [
       "<div>\n",
       "<style scoped>\n",
       "    .dataframe tbody tr th:only-of-type {\n",
       "        vertical-align: middle;\n",
       "    }\n",
       "\n",
       "    .dataframe tbody tr th {\n",
       "        vertical-align: top;\n",
       "    }\n",
       "\n",
       "    .dataframe thead th {\n",
       "        text-align: right;\n",
       "    }\n",
       "</style>\n",
       "<table border=\"1\" class=\"dataframe\">\n",
       "  <thead>\n",
       "    <tr style=\"text-align: right;\">\n",
       "      <th></th>\n",
       "      <th>ds</th>\n",
       "      <th>y</th>\n",
       "    </tr>\n",
       "  </thead>\n",
       "  <tbody>\n",
       "    <tr>\n",
       "      <th>0</th>\n",
       "      <td>2021-12-01 00:00:00</td>\n",
       "      <td>2021-12-01 00:00:00</td>\n",
       "    </tr>\n",
       "    <tr>\n",
       "      <th>1</th>\n",
       "      <td>2021-12-01 01:00:00</td>\n",
       "      <td>2021-12-01 01:00:00</td>\n",
       "    </tr>\n",
       "    <tr>\n",
       "      <th>2</th>\n",
       "      <td>2021-12-01 02:00:00</td>\n",
       "      <td>2021-12-01 02:00:00</td>\n",
       "    </tr>\n",
       "    <tr>\n",
       "      <th>3</th>\n",
       "      <td>2021-12-01 03:00:00</td>\n",
       "      <td>2021-12-01 03:00:00</td>\n",
       "    </tr>\n",
       "    <tr>\n",
       "      <th>4</th>\n",
       "      <td>2021-12-01 04:00:00</td>\n",
       "      <td>2021-12-01 04:00:00</td>\n",
       "    </tr>\n",
       "  </tbody>\n",
       "</table>\n",
       "</div>"
      ],
      "text/plain": [
       "                   ds                   y\n",
       "0 2021-12-01 00:00:00 2021-12-01 00:00:00\n",
       "1 2021-12-01 01:00:00 2021-12-01 01:00:00\n",
       "2 2021-12-01 02:00:00 2021-12-01 02:00:00\n",
       "3 2021-12-01 03:00:00 2021-12-01 03:00:00\n",
       "4 2021-12-01 04:00:00 2021-12-01 04:00:00"
      ]
     },
     "execution_count": 35,
     "metadata": {},
     "output_type": "execute_result"
    }
   ],
   "source": [
    "data_model_train = pd.DataFrame()\n",
    "data_model_train['ds'] = train_data.dropna()\n",
    "data_model_train['y'] = train_data.dropna()\n",
    "data_model_train.head()"
   ]
  },
  {
   "cell_type": "code",
   "execution_count": 36,
   "metadata": {},
   "outputs": [
    {
     "data": {
      "text/html": [
       "<div>\n",
       "<style scoped>\n",
       "    .dataframe tbody tr th:only-of-type {\n",
       "        vertical-align: middle;\n",
       "    }\n",
       "\n",
       "    .dataframe tbody tr th {\n",
       "        vertical-align: top;\n",
       "    }\n",
       "\n",
       "    .dataframe thead th {\n",
       "        text-align: right;\n",
       "    }\n",
       "</style>\n",
       "<table border=\"1\" class=\"dataframe\">\n",
       "  <thead>\n",
       "    <tr style=\"text-align: right;\">\n",
       "      <th></th>\n",
       "      <th>ds</th>\n",
       "      <th>y</th>\n",
       "    </tr>\n",
       "  </thead>\n",
       "  <tbody>\n",
       "    <tr>\n",
       "      <th>126</th>\n",
       "      <td>2021-01-17 06:00:00</td>\n",
       "      <td>2202.41</td>\n",
       "    </tr>\n",
       "    <tr>\n",
       "      <th>127</th>\n",
       "      <td>2021-01-17 07:00:00</td>\n",
       "      <td>2246.46</td>\n",
       "    </tr>\n",
       "    <tr>\n",
       "      <th>128</th>\n",
       "      <td>2021-01-17 08:00:00</td>\n",
       "      <td>2330.59</td>\n",
       "    </tr>\n",
       "    <tr>\n",
       "      <th>129</th>\n",
       "      <td>2021-01-17 09:00:00</td>\n",
       "      <td>2362.62</td>\n",
       "    </tr>\n",
       "    <tr>\n",
       "      <th>130</th>\n",
       "      <td>2021-01-17 10:00:00</td>\n",
       "      <td>2425.64</td>\n",
       "    </tr>\n",
       "  </tbody>\n",
       "</table>\n",
       "</div>"
      ],
      "text/plain": [
       "                     ds        y\n",
       "126 2021-01-17 06:00:00  2202.41\n",
       "127 2021-01-17 07:00:00  2246.46\n",
       "128 2021-01-17 08:00:00  2330.59\n",
       "129 2021-01-17 09:00:00  2362.62\n",
       "130 2021-01-17 10:00:00  2425.64"
      ]
     },
     "execution_count": 36,
     "metadata": {},
     "output_type": "execute_result"
    }
   ],
   "source": [
    "data_model_test = pd.DataFrame()\n",
    "data_model_test['ds'] = test_data\n",
    "data_model_test['y'] = test\n",
    "data_model_test.head()\n"
   ]
  },
  {
   "cell_type": "markdown",
   "metadata": {},
   "source": [
    "#  Making model fbprophet"
   ]
  },
  {
   "cell_type": "code",
   "execution_count": 37,
   "metadata": {},
   "outputs": [
    {
     "name": "stderr",
     "output_type": "stream",
     "text": [
      "INFO:fbprophet:Disabling yearly seasonality. Run prophet with yearly_seasonality=True to override this.\n"
     ]
    },
    {
     "data": {
      "text/plain": [
       "<fbprophet.forecaster.Prophet at 0x24db59a4400>"
      ]
     },
     "execution_count": 37,
     "metadata": {},
     "output_type": "execute_result"
    }
   ],
   "source": [
    "# Python\n",
    "from fbprophet import Prophet \n",
    "from fbprophet.diagnostics import cross_validation\n",
    "\n",
    "\n",
    "m = Prophet()\n",
    "m.fit(data_model_train)\n"
   ]
  },
  {
   "cell_type": "code",
   "execution_count": 38,
   "metadata": {},
   "outputs": [
    {
     "data": {
      "text/html": [
       "<div>\n",
       "<style scoped>\n",
       "    .dataframe tbody tr th:only-of-type {\n",
       "        vertical-align: middle;\n",
       "    }\n",
       "\n",
       "    .dataframe tbody tr th {\n",
       "        vertical-align: top;\n",
       "    }\n",
       "\n",
       "    .dataframe thead th {\n",
       "        text-align: right;\n",
       "    }\n",
       "</style>\n",
       "<table border=\"1\" class=\"dataframe\">\n",
       "  <thead>\n",
       "    <tr style=\"text-align: right;\">\n",
       "      <th></th>\n",
       "      <th>ds</th>\n",
       "    </tr>\n",
       "  </thead>\n",
       "  <tbody>\n",
       "    <tr>\n",
       "      <th>129</th>\n",
       "      <td>2021-12-02 03:00:00</td>\n",
       "    </tr>\n",
       "    <tr>\n",
       "      <th>130</th>\n",
       "      <td>2021-12-02 04:00:00</td>\n",
       "    </tr>\n",
       "    <tr>\n",
       "      <th>131</th>\n",
       "      <td>2021-12-02 05:00:00</td>\n",
       "    </tr>\n",
       "    <tr>\n",
       "      <th>132</th>\n",
       "      <td>2021-12-02 06:00:00</td>\n",
       "    </tr>\n",
       "    <tr>\n",
       "      <th>133</th>\n",
       "      <td>2021-12-02 07:00:00</td>\n",
       "    </tr>\n",
       "  </tbody>\n",
       "</table>\n",
       "</div>"
      ],
      "text/plain": [
       "                     ds\n",
       "129 2021-12-02 03:00:00\n",
       "130 2021-12-02 04:00:00\n",
       "131 2021-12-02 05:00:00\n",
       "132 2021-12-02 06:00:00\n",
       "133 2021-12-02 07:00:00"
      ]
     },
     "execution_count": 38,
     "metadata": {},
     "output_type": "execute_result"
    }
   ],
   "source": [
    "# Python\n",
    "future = m.make_future_dataframe(periods=8 , freq='H')\n",
    "future.tail()"
   ]
  },
  {
   "cell_type": "code",
   "execution_count": 39,
   "metadata": {},
   "outputs": [
    {
     "data": {
      "text/html": [
       "<div>\n",
       "<style scoped>\n",
       "    .dataframe tbody tr th:only-of-type {\n",
       "        vertical-align: middle;\n",
       "    }\n",
       "\n",
       "    .dataframe tbody tr th {\n",
       "        vertical-align: top;\n",
       "    }\n",
       "\n",
       "    .dataframe thead th {\n",
       "        text-align: right;\n",
       "    }\n",
       "</style>\n",
       "<table border=\"1\" class=\"dataframe\">\n",
       "  <thead>\n",
       "    <tr style=\"text-align: right;\">\n",
       "      <th></th>\n",
       "      <th>ds</th>\n",
       "      <th>yhat</th>\n",
       "      <th>yhat_lower</th>\n",
       "      <th>yhat_upper</th>\n",
       "    </tr>\n",
       "  </thead>\n",
       "  <tbody>\n",
       "    <tr>\n",
       "      <th>37</th>\n",
       "      <td>2021-01-18 19:00:00</td>\n",
       "      <td>1.610997e+18</td>\n",
       "      <td>1.610997e+18</td>\n",
       "      <td>1.610997e+18</td>\n",
       "    </tr>\n",
       "    <tr>\n",
       "      <th>38</th>\n",
       "      <td>2021-01-18 20:00:00</td>\n",
       "      <td>1.611000e+18</td>\n",
       "      <td>1.611000e+18</td>\n",
       "      <td>1.611000e+18</td>\n",
       "    </tr>\n",
       "    <tr>\n",
       "      <th>39</th>\n",
       "      <td>2021-01-18 21:00:00</td>\n",
       "      <td>1.611004e+18</td>\n",
       "      <td>1.611004e+18</td>\n",
       "      <td>1.611004e+18</td>\n",
       "    </tr>\n",
       "    <tr>\n",
       "      <th>40</th>\n",
       "      <td>2021-01-18 22:00:00</td>\n",
       "      <td>1.611008e+18</td>\n",
       "      <td>1.611008e+18</td>\n",
       "      <td>1.611008e+18</td>\n",
       "    </tr>\n",
       "    <tr>\n",
       "      <th>41</th>\n",
       "      <td>2021-01-18 23:00:00</td>\n",
       "      <td>1.611011e+18</td>\n",
       "      <td>1.611011e+18</td>\n",
       "      <td>1.611011e+18</td>\n",
       "    </tr>\n",
       "  </tbody>\n",
       "</table>\n",
       "</div>"
      ],
      "text/plain": [
       "                    ds          yhat    yhat_lower    yhat_upper\n",
       "37 2021-01-18 19:00:00  1.610997e+18  1.610997e+18  1.610997e+18\n",
       "38 2021-01-18 20:00:00  1.611000e+18  1.611000e+18  1.611000e+18\n",
       "39 2021-01-18 21:00:00  1.611004e+18  1.611004e+18  1.611004e+18\n",
       "40 2021-01-18 22:00:00  1.611008e+18  1.611008e+18  1.611008e+18\n",
       "41 2021-01-18 23:00:00  1.611011e+18  1.611011e+18  1.611011e+18"
      ]
     },
     "execution_count": 39,
     "metadata": {},
     "output_type": "execute_result"
    }
   ],
   "source": [
    "# Python\n",
    "predictions = m.predict(data_model_test)\n",
    "predictions[['ds', 'yhat', 'yhat_lower', 'yhat_upper']].tail()\n"
   ]
  },
  {
   "cell_type": "code",
   "execution_count": 40,
   "metadata": {},
   "outputs": [
    {
     "data": {
      "image/png": "[encoded data removed]",
      "text/plain": [
       "<Figure size 648x648 with 3 Axes>"
      ]
     },
     "metadata": {},
     "output_type": "display_data"
    }
   ],
   "source": [
    "# Python\n",
    "fig2 = m.plot_components(predictions)\n"
   ]
  },
  {
   "cell_type": "code",
   "execution_count": 41,
   "metadata": {},
   "outputs": [],
   "source": [
    "## Regression Evaluation Metrics fb proophet"
   ]
  },
  {
   "cell_type": "code",
   "execution_count": null,
   "metadata": {},
   "outputs": [
    {
     "name": "stderr",
     "output_type": "stream",
     "text": [
      "INFO:fbprophet:Making 1 forecasts with cutoffs between 2021-11-11 23:00:00 and 2021-11-11 23:00:00\n"
     ]
    },
    {
     "data": {
      "application/vnd.jupyter.widget-view+json": {
       "model_id": "e87052ab7c7546ae99d4a7a234a56ded",
       "version_major": 2,
       "version_minor": 0
      },
      "text/plain": [
       "  0%|          | 0/1 [00:00<?, ?it/s]"
      ]
     },
     "metadata": {},
     "output_type": "display_data"
    }
   ],
   "source": [
    "# Python\n",
    "df_cv = cross_validation(m, initial= '210 days', period='8 days' , horizon = '20 days')\n"
   ]
  },
  {
   "cell_type": "code",
   "execution_count": null,
   "metadata": {},
   "outputs": [],
   "source": [
    "# Python\n",
    "df_p = performance_metrics(predictions)\n",
    "df_p.head()"
   ]
  },
  {
   "cell_type": "markdown",
   "metadata": {},
   "source": [
    "## Pickle file for deployment"
   ]
  },
  {
   "cell_type": "code",
   "execution_count": null,
   "metadata": {},
   "outputs": [],
   "source": [
    "import pickle\n",
    "pickle.dump(m, open('fbprophet.pkl','wb'))"
   ]
  },
  {
   "cell_type": "code",
   "execution_count": null,
   "metadata": {},
   "outputs": [],
   "source": []
  },
  {
   "cell_type": "code",
   "execution_count": null,
   "metadata": {},
   "outputs": [],
   "source": []
  }
 ],
 "metadata": {
  "kernelspec": {
   "display_name": "Python 3",
   "language": "python",
   "name": "python3"
  },
  "language_info": {
   "codemirror_mode": {
    "name": "ipython",
    "version": 3
   },
   "file_extension": ".py",
   "mimetype": "text/x-python",
   "name": "python",
   "nbconvert_exporter": "python",
   "pygments_lexer": "ipython3",
   "version": "3.8.5"
  }
 },
 "nbformat": 4,
 "nbformat_minor": 4
}
